{
 "cells": [
  {
   "cell_type": "markdown",
   "metadata": {},
   "source": [
    "## EE 782: Advanced Topics in Machine Learning\n",
    "### **Course Project** Person Re-Identification through SSL using DINO\n",
    "\n",
    "### Collaborators: \n",
    "[![Munish](https://img.shields.io/badge/22M2153-Munish_Monga-blue)](https://github.com/munish30monga)\n",
    "[![Uddeshya](https://img.shields.io/badge/22M2152-Uddeshya_Singh-darkgreen)](https://github.com/uddeshya-iitb)\n",
    "\n",
    "> [Github Repo Link](https://github.com/munish30monga/person_ReID)"
   ]
  },
  {
   "cell_type": "markdown",
   "metadata": {},
   "source": [
    "### Table of Contents:\n",
    "- [Introduction](#introduction)\n",
    "- [Importing Libraries](#importing-libraries)\n",
    "- [Hyperparameters](#hyperparameters)\n"
   ]
  },
  {
   "cell_type": "markdown",
   "metadata": {},
   "source": [
    "### Introduction <a id=\"introduction\"></a>"
   ]
  },
  {
   "cell_type": "markdown",
   "metadata": {},
   "source": [
    "### Importing Libraries <a id=\"importing-libraries\"></a>"
   ]
  }
 ],
 "metadata": {
  "language_info": {
   "name": "python"
  }
 },
 "nbformat": 4,
 "nbformat_minor": 2
}
